{
 "cells": [
  {
   "cell_type": "code",
   "execution_count": 6,
   "metadata": {},
   "outputs": [],
   "source": [
    "# Import modules\n",
    "\n",
    "import pandas as pd\n",
    "import matplotlib.pyplot as plt\n",
    "import seaborn as sns\n",
    "import numpy as np\n",
    "import pickle\n",
    "from sklearn.feature_selection import VarianceThreshold\n",
    "from sklearn.neighbors import KNeighborsClassifier\n",
    "from sklearn.model_selection import train_test_split\n",
    "from sklearn.model_selection import learning_curve\n",
    "from sklearn.model_selection import validation_curve\n",
    "from sklearn.model_selection import GridSearchCV\n",
    "from sklearn.preprocessing import StandardScaler\n",
    "from sklearn import metrics\n",
    "from sklearn import preprocessing\n",
    "from IPython.display import clear_output"
   ]
  },
  {
   "cell_type": "code",
   "execution_count": 3,
   "metadata": {},
   "outputs": [],
   "source": [
    "# Fonction de lecture du fichier csv\n",
    "\n",
    "def read_csv(filename):\n",
    "    try:\n",
    "        global data_csv\n",
    "        data_csv = pd.read_csv(filename, sep=\",\", engine='python')\n",
    "        return data_csv\n",
    "    except Exception as e:\n",
    "        print(e)"
   ]
  },
  {
   "cell_type": "code",
   "execution_count": 4,
   "metadata": {},
   "outputs": [
    {
     "name": "stdout",
     "output_type": "stream",
     "text": [
      "    User ID  Gender  Age  EstimatedSalary  Purchased\n",
      "0  15624510    Male   19            19000          0\n",
      "1  15810944    Male   35            20000          0\n",
      "2  15668575  Female   26            43000          0\n",
      "3  15603246  Female   27            57000          0\n",
      "4  15804002    Male   19            76000          0\n"
     ]
    }
   ],
   "source": [
    "# Lecture du fichier CSV Iris\n",
    "\n",
    "file = read_csv('Social_Network_Ads.xls')\n",
    "print(file.head())"
   ]
  },
  {
   "cell_type": "code",
   "execution_count": 7,
   "metadata": {},
   "outputs": [],
   "source": [
    "# Déclaration de variables\n",
    "\n",
    "le = preprocessing.LabelEncoder()"
   ]
  },
  {
   "cell_type": "code",
   "execution_count": 8,
   "metadata": {},
   "outputs": [
    {
     "data": {
      "text/plain": [
       "User ID            0\n",
       "Gender             0\n",
       "Age                0\n",
       "EstimatedSalary    0\n",
       "Purchased          0\n",
       "dtype: int64"
      ]
     },
     "execution_count": 8,
     "metadata": {},
     "output_type": "execute_result"
    }
   ],
   "source": [
    "# Vérification de présence de valeur null\n",
    "\n",
    "file.isnull().sum()"
   ]
  },
  {
   "cell_type": "code",
   "execution_count": 18,
   "metadata": {},
   "outputs": [
    {
     "data": {
      "text/html": [
       "<div>\n",
       "<style scoped>\n",
       "    .dataframe tbody tr th:only-of-type {\n",
       "        vertical-align: middle;\n",
       "    }\n",
       "\n",
       "    .dataframe tbody tr th {\n",
       "        vertical-align: top;\n",
       "    }\n",
       "\n",
       "    .dataframe thead th {\n",
       "        text-align: right;\n",
       "    }\n",
       "</style>\n",
       "<table border=\"1\" class=\"dataframe\">\n",
       "  <thead>\n",
       "    <tr style=\"text-align: right;\">\n",
       "      <th></th>\n",
       "      <th>User ID</th>\n",
       "      <th>Gender</th>\n",
       "      <th>Age</th>\n",
       "      <th>EstimatedSalary</th>\n",
       "      <th>Purchased</th>\n",
       "    </tr>\n",
       "  </thead>\n",
       "  <tbody>\n",
       "    <tr>\n",
       "      <th>0</th>\n",
       "      <td>15624510</td>\n",
       "      <td>1</td>\n",
       "      <td>19</td>\n",
       "      <td>19000</td>\n",
       "      <td>0</td>\n",
       "    </tr>\n",
       "    <tr>\n",
       "      <th>1</th>\n",
       "      <td>15810944</td>\n",
       "      <td>1</td>\n",
       "      <td>35</td>\n",
       "      <td>20000</td>\n",
       "      <td>0</td>\n",
       "    </tr>\n",
       "    <tr>\n",
       "      <th>2</th>\n",
       "      <td>15668575</td>\n",
       "      <td>0</td>\n",
       "      <td>26</td>\n",
       "      <td>43000</td>\n",
       "      <td>0</td>\n",
       "    </tr>\n",
       "    <tr>\n",
       "      <th>3</th>\n",
       "      <td>15603246</td>\n",
       "      <td>0</td>\n",
       "      <td>27</td>\n",
       "      <td>57000</td>\n",
       "      <td>0</td>\n",
       "    </tr>\n",
       "    <tr>\n",
       "      <th>4</th>\n",
       "      <td>15804002</td>\n",
       "      <td>1</td>\n",
       "      <td>19</td>\n",
       "      <td>76000</td>\n",
       "      <td>0</td>\n",
       "    </tr>\n",
       "  </tbody>\n",
       "</table>\n",
       "</div>"
      ],
      "text/plain": [
       "    User ID Gender  Age  EstimatedSalary  Purchased\n",
       "0  15624510      1   19            19000          0\n",
       "1  15810944      1   35            20000          0\n",
       "2  15668575      0   26            43000          0\n",
       "3  15603246      0   27            57000          0\n",
       "4  15804002      1   19            76000          0"
      ]
     },
     "execution_count": 18,
     "metadata": {},
     "output_type": "execute_result"
    }
   ],
   "source": [
    "# Convertion des valeurs \"string\" en \"int\" de la colonne Spicies\n",
    "\n",
    "var_encoded=le.fit_transform(file[\"Gender\"])\n",
    "\n",
    "df_var_encoded = pd.DataFrame({'Gender':np.array(var_encoded)})\n",
    "\n",
    "\n",
    "# Création d'un DataFrame avec les valeurs de Species transformées\n",
    "\n",
    "fl_encoded = file\n",
    "\n",
    "# 1st Method\n",
    "\n",
    "# fl_encoded = fl_encoded.drop(['CAT_STR'], axis=1)\n",
    "\n",
    "# fl_encoded = fl_encoded.join(df_var_encoded) \n",
    "\n",
    "# 2nd Method\n",
    "\n",
    "data_to_int = pd.DataFrame({'Gender':np.array(var_encoded)})\n",
    "fl_encoded.update(data_to_int)\n",
    "\n",
    "fl_encoded.head()\n"
   ]
  },
  {
   "cell_type": "code",
   "execution_count": 9,
   "metadata": {},
   "outputs": [
    {
     "data": {
      "image/png": "[encoded data removed]",
      "text/plain": [
       "<Figure size 640x480 with 1 Axes>"
      ]
     },
     "metadata": {},
     "output_type": "display_data"
    }
   ],
   "source": [
    "# Affiche la répartition des resultats présents dans le DataFrame par catégorie\n",
    "\n",
    "ax = file['Gender'].value_counts().plot.pie(autopct='%1.1f%%')\n",
    "ax.set_title('')\n",
    "ax.set_ylabel('')\n",
    "plt.show()"
   ]
  },
  {
   "cell_type": "code",
   "execution_count": 10,
   "metadata": {},
   "outputs": [
    {
     "name": "stdout",
     "output_type": "stream",
     "text": [
      "Gender\n",
      "Female    71759.803922\n",
      "Male      67642.857143\n",
      "Name: EstimatedSalary, dtype: float64\n"
     ]
    }
   ],
   "source": [
    "# Affiche la moyenne de salaire estimé par sexe\n",
    "\n",
    "fl = file.groupby('Gender')['EstimatedSalary'].mean()\n",
    "clear_output()\n",
    "print(fl)"
   ]
  },
  {
   "cell_type": "code",
   "execution_count": 11,
   "metadata": {},
   "outputs": [
    {
     "name": "stdout",
     "output_type": "stream",
     "text": [
      "Gender\n",
      "Female    38.411765\n",
      "Male      36.867347\n",
      "Name: Age, dtype: float64\n"
     ]
    }
   ],
   "source": [
    "# Affiche la moyenne d'âge par sexe\n",
    "\n",
    "fl = file.groupby('Gender')['Age'].mean()\n",
    "clear_output()\n",
    "print(fl)"
   ]
  },
  {
   "cell_type": "code",
   "execution_count": 14,
   "metadata": {},
   "outputs": [
    {
     "name": "stdout",
     "output_type": "stream",
     "text": [
      "Purchased\n",
      "0    32.793774\n",
      "1    46.391608\n",
      "Name: Age, dtype: float64\n"
     ]
    }
   ],
   "source": [
    "# Affiche la moyenne d'achat par âge\n",
    "\n",
    "fl = file.groupby('Purchased')['Age'].mean()\n",
    "clear_output()\n",
    "print(fl)"
   ]
  },
  {
   "cell_type": "code",
   "execution_count": 35,
   "metadata": {},
   "outputs": [
    {
     "name": "stdout",
     "output_type": "stream",
     "text": [
      "35.75 %\n"
     ]
    }
   ],
   "source": [
    "# Affiche la moyenne d'achat\n",
    "\n",
    "fl = file['Purchased'].mean()\n",
    "clear_output()\n",
    "print((fl*100), str(\"%\"))"
   ]
  },
  {
   "cell_type": "code",
   "execution_count": 37,
   "metadata": {},
   "outputs": [
    {
     "name": "stdout",
     "output_type": "stream",
     "text": [
      "Purchased\n",
      "0    0.505837\n",
      "1    0.461538\n",
      "Name: Gender, dtype: float64\n"
     ]
    }
   ],
   "source": [
    "# Affiche la moyenne 0:F 1:H\n",
    "\n",
    "fl = fl_encoded.groupby('Purchased')['Gender'].mean()\n",
    "clear_output()\n",
    "print(fl)\n"
   ]
  },
  {
   "cell_type": "code",
   "execution_count": 22,
   "metadata": {},
   "outputs": [
    {
     "name": "stdout",
     "output_type": "stream",
     "text": [
      "Age Min 18 \n",
      "\n",
      "Age Max 60\n"
     ]
    }
   ],
   "source": [
    "# Affiche le tableau des mesures max et min\n",
    "\n",
    "fl_min = file['Age'].min()\n",
    "fl_max = file['Age'].max()\n",
    "clear_output()\n",
    "print(\"Age Min\",fl_min,\"\\n\")\n",
    "print(\"Age Max\",fl_max)"
   ]
  },
  {
   "cell_type": "code",
   "execution_count": 38,
   "metadata": {},
   "outputs": [
    {
     "name": "stdout",
     "output_type": "stream",
     "text": [
      "EstimatedSalary Min 15000 \n",
      "\n",
      "EstimatedSalary Max 150000\n"
     ]
    }
   ],
   "source": [
    "# Affiche le tableau des mesures max et min\n",
    "\n",
    "fl_min = file['EstimatedSalary'].min()\n",
    "fl_max = file['EstimatedSalary'].max()\n",
    "clear_output()\n",
    "print(\"EstimatedSalary Min\",fl_min,\"\\n\")\n",
    "print(\"EstimatedSalary Max\",fl_max)"
   ]
  },
  {
   "cell_type": "code",
   "execution_count": 48,
   "metadata": {},
   "outputs": [],
   "source": [
    "# Séparation valeurs et resultats\n",
    "\n",
    "feature_columns = ['Gender','Age','EstimatedSalary']\n",
    "X = fl_encoded[feature_columns].values\n",
    "y = fl_encoded['Purchased'].values"
   ]
  },
  {
   "cell_type": "code",
   "execution_count": 49,
   "metadata": {},
   "outputs": [
    {
     "data": {
      "image/png": "[encoded data removed]",
      "text/plain": [
       "<Figure size 640x480 with 1 Axes>"
      ]
     },
     "metadata": {},
     "output_type": "display_data"
    }
   ],
   "source": [
    "# Affiche la meilleur répartition pour la découpe du jeu de données\n",
    "\n",
    "model=KNeighborsClassifier()\n",
    "\n",
    "N, train_score, val_score = learning_curve(model, X, y, train_sizes = np.linspace(0.1, 1, 100),  cv=15, scoring='accuracy')\n",
    "plt.plot(N/X.shape[0]*100, train_score.mean(axis=1), label='train')\n",
    "plt.plot(N/X.shape[0]*100, val_score.mean(axis=1), label='validation')\n",
    "# clear_output()\n",
    "plt.title(\"LEARNING CURVE FOR KNN Classifier\")\n",
    "plt.xlabel(\"Training Set Size\"), plt.ylabel(\"Accuracy Score\"), plt.legend(loc=\"best\")\n",
    "plt.tight_layout()\n",
    "plt.show()"
   ]
  },
  {
   "cell_type": "code",
   "execution_count": 50,
   "metadata": {},
   "outputs": [],
   "source": [
    "# Séparation du jeu de données en deux\n",
    "\n",
    "X_train, X_test, y_train, y_test = train_test_split(X, y, test_size=0.50)"
   ]
  },
  {
   "cell_type": "code",
   "execution_count": 51,
   "metadata": {},
   "outputs": [],
   "source": [
    "stand= StandardScaler()\n",
    "fit_train= stand.fit_transform(X_train)\n",
    "transfor_test=stand.transform(X_test)"
   ]
  },
  {
   "cell_type": "code",
   "execution_count": 52,
   "metadata": {},
   "outputs": [
    {
     "data": {
      "text/plain": [
       "array([[1, 19, 19000],\n",
       "       [1, 35, 20000],\n",
       "       [0, 26, 43000],\n",
       "       ...,\n",
       "       [0, 50, 20000],\n",
       "       [1, 36, 33000],\n",
       "       [0, 49, 36000]], dtype=object)"
      ]
     },
     "execution_count": 52,
     "metadata": {},
     "output_type": "execute_result"
    }
   ],
   "source": [
    "# Features Selection - Varaince Threshold\n",
    "\n",
    "selector = VarianceThreshold(threshold=0.2)\n",
    "selector.fit_transform(X)"
   ]
  },
  {
   "cell_type": "code",
   "execution_count": 53,
   "metadata": {},
   "outputs": [],
   "source": [
    "# Calcule du meilleur nombre de voisins\n",
    "\n",
    "model = KNeighborsClassifier()\n",
    "k = np.arange(1, 50)\n",
    "\n",
    "train_score, val_score = validation_curve(model, X_train, y_train, param_name=\"n_neighbors\", param_range=k, cv=5)"
   ]
  },
  {
   "cell_type": "code",
   "execution_count": 54,
   "metadata": {},
   "outputs": [
    {
     "data": {
      "image/png": "[encoded data removed]",
      "text/plain": [
       "<Figure size 640x480 with 1 Axes>"
      ]
     },
     "metadata": {},
     "output_type": "display_data"
    }
   ],
   "source": [
    "# Affichage du graphique des scores selon le nombre de voisin\n",
    "\n",
    "plt.plot(k, val_score.mean(axis=1))\n",
    "plt.plot(k, train_score.mean(axis=1))\n",
    "clear_output()"
   ]
  },
  {
   "cell_type": "code",
   "execution_count": 55,
   "metadata": {},
   "outputs": [],
   "source": [
    "# Détermine les meilleurs paramètres pour le nombre de voisin et la méthode utilisée\n",
    "\n",
    "param_grid = {'n_neighbors': np.arange(1, 20), 'metric': ['euclidean', 'manhattan']}\n",
    "grid = GridSearchCV(KNeighborsClassifier(), param_grid, cv=5)\n",
    "grid.fit(X_train, y_train)\n",
    "clear_output()"
   ]
  },
  {
   "cell_type": "code",
   "execution_count": 56,
   "metadata": {},
   "outputs": [
    {
     "data": {
      "text/plain": [
       "0.8099999999999999"
      ]
     },
     "execution_count": 56,
     "metadata": {},
     "output_type": "execute_result"
    }
   ],
   "source": [
    "# Affiche le meilleur score posible\n",
    "\n",
    "grid.best_score_"
   ]
  },
  {
   "cell_type": "code",
   "execution_count": 57,
   "metadata": {},
   "outputs": [
    {
     "data": {
      "text/plain": [
       "{'metric': 'euclidean', 'n_neighbors': 4}"
      ]
     },
     "execution_count": 57,
     "metadata": {},
     "output_type": "execute_result"
    }
   ],
   "source": [
    "# Affiche les meilleurs paramètres\n",
    "\n",
    "grid.best_params_"
   ]
  },
  {
   "cell_type": "code",
   "execution_count": 58,
   "metadata": {},
   "outputs": [
    {
     "data": {
      "text/plain": [
       "0.79"
      ]
     },
     "execution_count": 58,
     "metadata": {},
     "output_type": "execute_result"
    }
   ],
   "source": [
    "# Test les paramètres sur le jeu de données test\n",
    "\n",
    "model = grid.best_estimator_\n",
    "model.score(X_test, y_test)"
   ]
  },
  {
   "cell_type": "code",
   "execution_count": 59,
   "metadata": {},
   "outputs": [
    {
     "ename": "NameError",
     "evalue": "name 'metrics' is not defined",
     "output_type": "error",
     "traceback": [
      "\u001b[1;31m---------------------------------------------------------------------------\u001b[0m",
      "\u001b[1;31mNameError\u001b[0m                                 Traceback (most recent call last)",
      "Cell \u001b[1;32mIn [59], line 4\u001b[0m\n\u001b[0;32m      1\u001b[0m \u001b[39m# Affiche la matrice de confusion\u001b[39;00m\n\u001b[0;32m      3\u001b[0m y_pred \u001b[39m=\u001b[39m model\u001b[39m.\u001b[39mpredict(X_test)\n\u001b[1;32m----> 4\u001b[0m confus_matrix \u001b[39m=\u001b[39m metrics\u001b[39m.\u001b[39mconfusion_matrix(y_test, y_pred)\n\u001b[0;32m      5\u001b[0m confus_matrix\n",
      "\u001b[1;31mNameError\u001b[0m: name 'metrics' is not defined"
     ]
    }
   ],
   "source": [
    "# Affiche la matrice de confusion\n",
    "\n",
    "y_pred = model.predict(X_test)\n",
    "confus_matrix = metrics.confusion_matrix(y_test, y_pred)\n",
    "confus_matrix"
   ]
  },
  {
   "cell_type": "code",
   "execution_count": null,
   "metadata": {},
   "outputs": [],
   "source": [
    "# Test de prédiction standardisé\n",
    "\n",
    "model.fit(fit_train, y_train)\n",
    "y_pred = model.predict(transfor_test)\n",
    "print(y_pred)"
   ]
  },
  {
   "cell_type": "code",
   "execution_count": null,
   "metadata": {},
   "outputs": [],
   "source": [
    "# Sauvegarde du modèle avec Pickle\n",
    "\n",
    "d={}\n",
    "d[\"model\"]=model\n",
    "d[\"stand\"]=stand\n",
    "d[\"le\"]=le\n",
    "f = open('fl.pkl', 'wb')\n",
    "pickle.dump(d, f)\n",
    "f.close()      "
   ]
  },
  {
   "cell_type": "code",
   "execution_count": null,
   "metadata": {},
   "outputs": [],
   "source": []
  }
 ],
 "metadata": {
  "kernelspec": {
   "display_name": "Python 3.10.8 ('venv_win')",
   "language": "python",
   "name": "python3"
  },
  "language_info": {
   "codemirror_mode": {
    "name": "ipython",
    "version": 3
   },
   "file_extension": ".py",
   "mimetype": "text/x-python",
   "name": "python",
   "nbconvert_exporter": "python",
   "pygments_lexer": "ipython3",
   "version": "3.10.8"
  },
  "orig_nbformat": 4,
  "vscode": {
   "interpreter": {
    "hash": "2a9ee10c8c965ce79509f932407f8eb5bf800abf219529cca35fca9b011161a2"
   }
  }
 },
 "nbformat": 4,
 "nbformat_minor": 2
}
