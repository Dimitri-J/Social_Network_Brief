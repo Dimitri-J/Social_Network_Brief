{
  "nbformat": 4,
  "nbformat_minor": 0,
  "metadata": {
    "colab": {
      "provenance": [],
      "toc_visible": true
    },
    "kernelspec": {
      "name": "python3",
      "display_name": "Python 3"
    },
    "language_info": {
      "name": "python"
    }
  },
  "cells": [
    {
      "cell_type": "markdown",
      "source": [
        "<h1><center>XYZ Product - SN_Marketing</center></h1>\n",
        "\n",
        "<center><img src=\"\" alt=\"iIllustration\" title=\"title\"  style=\"object-fit:cover; width:800px; height:250px;\"/></center>"
      ],
      "metadata": {
        "id": "JCShyQ-z-xmW"
      }
    },
    {
      "cell_type": "code",
      "execution_count": null,
      "metadata": {
        "id": "ixSACdx--RSQ"
      },
      "outputs": [],
      "source": [
        "# Import modules\n",
        "\n",
        "from sklearn.feature_selection import VarianceThreshold\n",
        "from sklearn import metrics\n",
        "from sklearn import preprocessing\n",
        "from IPython.display import clear_output\n",
        "\n",
        "# Import Libraries\n",
        "import matplotlib.pyplot as plt\n",
        "import numpy as np\n",
        "import pandas as pd\n",
        "import pickle\n",
        "import seaborn as sns\n",
        "import warnings\n",
        "\n",
        "#from sklearn.externals import joblib\n",
        "from sklearn.metrics import confusion_matrix\n",
        "from sklearn.model_selection import cross_val_score, GridSearchCV\n",
        "from sklearn.model_selection import KFold, LeaveOneOut, ShuffleSplit \n",
        "from sklearn.model_selection import StratifiedKFold, GroupKFold\n",
        "from sklearn.model_selection import train_test_split\n",
        "from sklearn.model_selection import learning_curve, validation_curve\n",
        "from sklearn.neighbors import KNeighborsClassifier      # KNN\n",
        "from sklearn.preprocessing import LabelEncoder\n",
        "from sklearn.preprocessing import MinMaxScaler\n",
        "from sklearn.preprocessing import RobustScaler\n",
        "from sklearn.preprocessing import StandardScaler\n",
        "\n",
        "warnings.filterwarnings('ignore')\n",
        "plt.style.use('fivethirtyeight')\n",
        "\n",
        "%matplotlib inline"
      ]
    },
    {
      "cell_type": "code",
      "source": [
        "dataset = pd.read_csv('https://raw.githubusercontent.com/Dimitri-J/Social_Network_Brief/main/Files/Social_Network_Ads.xls')\n",
        "dataset.head()"
      ],
      "metadata": {
        "id": "Q3LBy1VQ-34M",
        "colab": {
          "base_uri": "https://localhost:8080/",
          "height": 206
        },
        "outputId": "a76e0c7b-d92b-4c3c-9d95-58b9ea594038"
      },
      "execution_count": null,
      "outputs": [
        {
          "output_type": "execute_result",
          "data": {
            "text/plain": [
              "    User ID  Gender  Age  EstimatedSalary  Purchased\n",
              "0  15624510    Male   19            19000          0\n",
              "1  15810944    Male   35            20000          0\n",
              "2  15668575  Female   26            43000          0\n",
              "3  15603246  Female   27            57000          0\n",
              "4  15804002    Male   19            76000          0"
            ],
            "text/html": [
              "\n",
              "  <div id=\"df-10010218-960a-4553-a871-10e2b6c0e03c\">\n",
              "    <div class=\"colab-df-container\">\n",
              "      <div>\n",
              "<style scoped>\n",
              "    .dataframe tbody tr th:only-of-type {\n",
              "        vertical-align: middle;\n",
              "    }\n",
              "\n",
              "    .dataframe tbody tr th {\n",
              "        vertical-align: top;\n",
              "    }\n",
              "\n",
              "    .dataframe thead th {\n",
              "        text-align: right;\n",
              "    }\n",
              "</style>\n",
              "<table border=\"1\" class=\"dataframe\">\n",
              "  <thead>\n",
              "    <tr style=\"text-align: right;\">\n",
              "      <th></th>\n",
              "      <th>User ID</th>\n",
              "      <th>Gender</th>\n",
              "      <th>Age</th>\n",
              "      <th>EstimatedSalary</th>\n",
              "      <th>Purchased</th>\n",
              "    </tr>\n",
              "  </thead>\n",
              "  <tbody>\n",
              "    <tr>\n",
              "      <th>0</th>\n",
              "      <td>15624510</td>\n",
              "      <td>Male</td>\n",
              "      <td>19</td>\n",
              "      <td>19000</td>\n",
              "      <td>0</td>\n",
              "    </tr>\n",
              "    <tr>\n",
              "      <th>1</th>\n",
              "      <td>15810944</td>\n",
              "      <td>Male</td>\n",
              "      <td>35</td>\n",
              "      <td>20000</td>\n",
              "      <td>0</td>\n",
              "    </tr>\n",
              "    <tr>\n",
              "      <th>2</th>\n",
              "      <td>15668575</td>\n",
              "      <td>Female</td>\n",
              "      <td>26</td>\n",
              "      <td>43000</td>\n",
              "      <td>0</td>\n",
              "    </tr>\n",
              "    <tr>\n",
              "      <th>3</th>\n",
              "      <td>15603246</td>\n",
              "      <td>Female</td>\n",
              "      <td>27</td>\n",
              "      <td>57000</td>\n",
              "      <td>0</td>\n",
              "    </tr>\n",
              "    <tr>\n",
              "      <th>4</th>\n",
              "      <td>15804002</td>\n",
              "      <td>Male</td>\n",
              "      <td>19</td>\n",
              "      <td>76000</td>\n",
              "      <td>0</td>\n",
              "    </tr>\n",
              "  </tbody>\n",
              "</table>\n",
              "</div>\n",
              "      <button class=\"colab-df-convert\" onclick=\"convertToInteractive('df-10010218-960a-4553-a871-10e2b6c0e03c')\"\n",
              "              title=\"Convert this dataframe to an interactive table.\"\n",
              "              style=\"display:none;\">\n",
              "        \n",
              "  <svg xmlns=\"http://www.w3.org/2000/svg\" height=\"24px\"viewBox=\"0 0 24 24\"\n",
              "       width=\"24px\">\n",
              "    <path d=\"M0 0h24v24H0V0z\" fill=\"none\"/>\n",
              "    <path d=\"M18.56 5.44l.94 2.06.94-2.06 2.06-.94-2.06-.94-.94-2.06-.94 2.06-2.06.94zm-11 1L8.5 8.5l.94-2.06 2.06-.94-2.06-.94L8.5 2.5l-.94 2.06-2.06.94zm10 10l.94 2.06.94-2.06 2.06-.94-2.06-.94-.94-2.06-.94 2.06-2.06.94z\"/><path d=\"M17.41 7.96l-1.37-1.37c-.4-.4-.92-.59-1.43-.59-.52 0-1.04.2-1.43.59L10.3 9.45l-7.72 7.72c-.78.78-.78 2.05 0 2.83L4 21.41c.39.39.9.59 1.41.59.51 0 1.02-.2 1.41-.59l7.78-7.78 2.81-2.81c.8-.78.8-2.07 0-2.86zM5.41 20L4 18.59l7.72-7.72 1.47 1.35L5.41 20z\"/>\n",
              "  </svg>\n",
              "      </button>\n",
              "      \n",
              "  <style>\n",
              "    .colab-df-container {\n",
              "      display:flex;\n",
              "      flex-wrap:wrap;\n",
              "      gap: 12px;\n",
              "    }\n",
              "\n",
              "    .colab-df-convert {\n",
              "      background-color: #E8F0FE;\n",
              "      border: none;\n",
              "      border-radius: 50%;\n",
              "      cursor: pointer;\n",
              "      display: none;\n",
              "      fill: #1967D2;\n",
              "      height: 32px;\n",
              "      padding: 0 0 0 0;\n",
              "      width: 32px;\n",
              "    }\n",
              "\n",
              "    .colab-df-convert:hover {\n",
              "      background-color: #E2EBFA;\n",
              "      box-shadow: 0px 1px 2px rgba(60, 64, 67, 0.3), 0px 1px 3px 1px rgba(60, 64, 67, 0.15);\n",
              "      fill: #174EA6;\n",
              "    }\n",
              "\n",
              "    [theme=dark] .colab-df-convert {\n",
              "      background-color: #3B4455;\n",
              "      fill: #D2E3FC;\n",
              "    }\n",
              "\n",
              "    [theme=dark] .colab-df-convert:hover {\n",
              "      background-color: #434B5C;\n",
              "      box-shadow: 0px 1px 3px 1px rgba(0, 0, 0, 0.15);\n",
              "      filter: drop-shadow(0px 1px 2px rgba(0, 0, 0, 0.3));\n",
              "      fill: #FFFFFF;\n",
              "    }\n",
              "  </style>\n",
              "\n",
              "      <script>\n",
              "        const buttonEl =\n",
              "          document.querySelector('#df-10010218-960a-4553-a871-10e2b6c0e03c button.colab-df-convert');\n",
              "        buttonEl.style.display =\n",
              "          google.colab.kernel.accessAllowed ? 'block' : 'none';\n",
              "\n",
              "        async function convertToInteractive(key) {\n",
              "          const element = document.querySelector('#df-10010218-960a-4553-a871-10e2b6c0e03c');\n",
              "          const dataTable =\n",
              "            await google.colab.kernel.invokeFunction('convertToInteractive',\n",
              "                                                     [key], {});\n",
              "          if (!dataTable) return;\n",
              "\n",
              "          const docLinkHtml = 'Like what you see? Visit the ' +\n",
              "            '<a target=\"_blank\" href=https://colab.research.google.com/notebooks/data_table.ipynb>data table notebook</a>'\n",
              "            + ' to learn more about interactive tables.';\n",
              "          element.innerHTML = '';\n",
              "          dataTable['output_type'] = 'display_data';\n",
              "          await google.colab.output.renderOutput(dataTable, element);\n",
              "          const docLink = document.createElement('div');\n",
              "          docLink.innerHTML = docLinkHtml;\n",
              "          element.appendChild(docLink);\n",
              "        }\n",
              "      </script>\n",
              "    </div>\n",
              "  </div>\n",
              "  "
            ]
          },
          "metadata": {},
          "execution_count": 80
        }
      ]
    },
    {
      "cell_type": "code",
      "source": [
        "dataset.info()           # give infos about the types of each cols\n",
        "dataset.describe()"
      ],
      "metadata": {
        "id": "4bdqaF93_Bcb",
        "colab": {
          "base_uri": "https://localhost:8080/",
          "height": 509
        },
        "outputId": "30e93aa3-bb5c-4dd3-9982-fc27fafc3e91"
      },
      "execution_count": null,
      "outputs": [
        {
          "output_type": "stream",
          "name": "stdout",
          "text": [
            "<class 'pandas.core.frame.DataFrame'>\n",
            "RangeIndex: 400 entries, 0 to 399\n",
            "Data columns (total 5 columns):\n",
            " #   Column           Non-Null Count  Dtype \n",
            "---  ------           --------------  ----- \n",
            " 0   User ID          400 non-null    int64 \n",
            " 1   Gender           400 non-null    object\n",
            " 2   Age              400 non-null    int64 \n",
            " 3   EstimatedSalary  400 non-null    int64 \n",
            " 4   Purchased        400 non-null    int64 \n",
            "dtypes: int64(4), object(1)\n",
            "memory usage: 15.8+ KB\n"
          ]
        },
        {
          "output_type": "execute_result",
          "data": {
            "text/plain": [
              "            User ID         Age  EstimatedSalary   Purchased\n",
              "count  4.000000e+02  400.000000       400.000000  400.000000\n",
              "mean   1.569154e+07   37.655000     69742.500000    0.357500\n",
              "std    7.165832e+04   10.482877     34096.960282    0.479864\n",
              "min    1.556669e+07   18.000000     15000.000000    0.000000\n",
              "25%    1.562676e+07   29.750000     43000.000000    0.000000\n",
              "50%    1.569434e+07   37.000000     70000.000000    0.000000\n",
              "75%    1.575036e+07   46.000000     88000.000000    1.000000\n",
              "max    1.581524e+07   60.000000    150000.000000    1.000000"
            ],
            "text/html": [
              "\n",
              "  <div id=\"df-9f584589-cf91-461d-8ddf-24ffc0e6cf28\">\n",
              "    <div class=\"colab-df-container\">\n",
              "      <div>\n",
              "<style scoped>\n",
              "    .dataframe tbody tr th:only-of-type {\n",
              "        vertical-align: middle;\n",
              "    }\n",
              "\n",
              "    .dataframe tbody tr th {\n",
              "        vertical-align: top;\n",
              "    }\n",
              "\n",
              "    .dataframe thead th {\n",
              "        text-align: right;\n",
              "    }\n",
              "</style>\n",
              "<table border=\"1\" class=\"dataframe\">\n",
              "  <thead>\n",
              "    <tr style=\"text-align: right;\">\n",
              "      <th></th>\n",
              "      <th>User ID</th>\n",
              "      <th>Age</th>\n",
              "      <th>EstimatedSalary</th>\n",
              "      <th>Purchased</th>\n",
              "    </tr>\n",
              "  </thead>\n",
              "  <tbody>\n",
              "    <tr>\n",
              "      <th>count</th>\n",
              "      <td>4.000000e+02</td>\n",
              "      <td>400.000000</td>\n",
              "      <td>400.000000</td>\n",
              "      <td>400.000000</td>\n",
              "    </tr>\n",
              "    <tr>\n",
              "      <th>mean</th>\n",
              "      <td>1.569154e+07</td>\n",
              "      <td>37.655000</td>\n",
              "      <td>69742.500000</td>\n",
              "      <td>0.357500</td>\n",
              "    </tr>\n",
              "    <tr>\n",
              "      <th>std</th>\n",
              "      <td>7.165832e+04</td>\n",
              "      <td>10.482877</td>\n",
              "      <td>34096.960282</td>\n",
              "      <td>0.479864</td>\n",
              "    </tr>\n",
              "    <tr>\n",
              "      <th>min</th>\n",
              "      <td>1.556669e+07</td>\n",
              "      <td>18.000000</td>\n",
              "      <td>15000.000000</td>\n",
              "      <td>0.000000</td>\n",
              "    </tr>\n",
              "    <tr>\n",
              "      <th>25%</th>\n",
              "      <td>1.562676e+07</td>\n",
              "      <td>29.750000</td>\n",
              "      <td>43000.000000</td>\n",
              "      <td>0.000000</td>\n",
              "    </tr>\n",
              "    <tr>\n",
              "      <th>50%</th>\n",
              "      <td>1.569434e+07</td>\n",
              "      <td>37.000000</td>\n",
              "      <td>70000.000000</td>\n",
              "      <td>0.000000</td>\n",
              "    </tr>\n",
              "    <tr>\n",
              "      <th>75%</th>\n",
              "      <td>1.575036e+07</td>\n",
              "      <td>46.000000</td>\n",
              "      <td>88000.000000</td>\n",
              "      <td>1.000000</td>\n",
              "    </tr>\n",
              "    <tr>\n",
              "      <th>max</th>\n",
              "      <td>1.581524e+07</td>\n",
              "      <td>60.000000</td>\n",
              "      <td>150000.000000</td>\n",
              "      <td>1.000000</td>\n",
              "    </tr>\n",
              "  </tbody>\n",
              "</table>\n",
              "</div>\n",
              "      <button class=\"colab-df-convert\" onclick=\"convertToInteractive('df-9f584589-cf91-461d-8ddf-24ffc0e6cf28')\"\n",
              "              title=\"Convert this dataframe to an interactive table.\"\n",
              "              style=\"display:none;\">\n",
              "        \n",
              "  <svg xmlns=\"http://www.w3.org/2000/svg\" height=\"24px\"viewBox=\"0 0 24 24\"\n",
              "       width=\"24px\">\n",
              "    <path d=\"M0 0h24v24H0V0z\" fill=\"none\"/>\n",
              "    <path d=\"M18.56 5.44l.94 2.06.94-2.06 2.06-.94-2.06-.94-.94-2.06-.94 2.06-2.06.94zm-11 1L8.5 8.5l.94-2.06 2.06-.94-2.06-.94L8.5 2.5l-.94 2.06-2.06.94zm10 10l.94 2.06.94-2.06 2.06-.94-2.06-.94-.94-2.06-.94 2.06-2.06.94z\"/><path d=\"M17.41 7.96l-1.37-1.37c-.4-.4-.92-.59-1.43-.59-.52 0-1.04.2-1.43.59L10.3 9.45l-7.72 7.72c-.78.78-.78 2.05 0 2.83L4 21.41c.39.39.9.59 1.41.59.51 0 1.02-.2 1.41-.59l7.78-7.78 2.81-2.81c.8-.78.8-2.07 0-2.86zM5.41 20L4 18.59l7.72-7.72 1.47 1.35L5.41 20z\"/>\n",
              "  </svg>\n",
              "      </button>\n",
              "      \n",
              "  <style>\n",
              "    .colab-df-container {\n",
              "      display:flex;\n",
              "      flex-wrap:wrap;\n",
              "      gap: 12px;\n",
              "    }\n",
              "\n",
              "    .colab-df-convert {\n",
              "      background-color: #E8F0FE;\n",
              "      border: none;\n",
              "      border-radius: 50%;\n",
              "      cursor: pointer;\n",
              "      display: none;\n",
              "      fill: #1967D2;\n",
              "      height: 32px;\n",
              "      padding: 0 0 0 0;\n",
              "      width: 32px;\n",
              "    }\n",
              "\n",
              "    .colab-df-convert:hover {\n",
              "      background-color: #E2EBFA;\n",
              "      box-shadow: 0px 1px 2px rgba(60, 64, 67, 0.3), 0px 1px 3px 1px rgba(60, 64, 67, 0.15);\n",
              "      fill: #174EA6;\n",
              "    }\n",
              "\n",
              "    [theme=dark] .colab-df-convert {\n",
              "      background-color: #3B4455;\n",
              "      fill: #D2E3FC;\n",
              "    }\n",
              "\n",
              "    [theme=dark] .colab-df-convert:hover {\n",
              "      background-color: #434B5C;\n",
              "      box-shadow: 0px 1px 3px 1px rgba(0, 0, 0, 0.15);\n",
              "      filter: drop-shadow(0px 1px 2px rgba(0, 0, 0, 0.3));\n",
              "      fill: #FFFFFF;\n",
              "    }\n",
              "  </style>\n",
              "\n",
              "      <script>\n",
              "        const buttonEl =\n",
              "          document.querySelector('#df-9f584589-cf91-461d-8ddf-24ffc0e6cf28 button.colab-df-convert');\n",
              "        buttonEl.style.display =\n",
              "          google.colab.kernel.accessAllowed ? 'block' : 'none';\n",
              "\n",
              "        async function convertToInteractive(key) {\n",
              "          const element = document.querySelector('#df-9f584589-cf91-461d-8ddf-24ffc0e6cf28');\n",
              "          const dataTable =\n",
              "            await google.colab.kernel.invokeFunction('convertToInteractive',\n",
              "                                                     [key], {});\n",
              "          if (!dataTable) return;\n",
              "\n",
              "          const docLinkHtml = 'Like what you see? Visit the ' +\n",
              "            '<a target=\"_blank\" href=https://colab.research.google.com/notebooks/data_table.ipynb>data table notebook</a>'\n",
              "            + ' to learn more about interactive tables.';\n",
              "          element.innerHTML = '';\n",
              "          dataTable['output_type'] = 'display_data';\n",
              "          await google.colab.output.renderOutput(dataTable, element);\n",
              "          const docLink = document.createElement('div');\n",
              "          docLink.innerHTML = docLinkHtml;\n",
              "          element.appendChild(docLink);\n",
              "        }\n",
              "      </script>\n",
              "    </div>\n",
              "  </div>\n",
              "  "
            ]
          },
          "metadata": {},
          "execution_count": 81
        }
      ]
    },
    {
      "cell_type": "code",
      "source": [
        "# Drop the ID not relevant for the next steps\n",
        "df_copy = dataset.drop(['User ID'], axis=1)\n",
        "df_copy.head()"
      ],
      "metadata": {
        "id": "aOZiYvI5_NXX",
        "colab": {
          "base_uri": "https://localhost:8080/",
          "height": 206
        },
        "outputId": "3af8f6a6-ac42-4b5c-eee9-16d8db802995"
      },
      "execution_count": null,
      "outputs": [
        {
          "output_type": "execute_result",
          "data": {
            "text/plain": [
              "   Gender  Age  EstimatedSalary  Purchased\n",
              "0    Male   19            19000          0\n",
              "1    Male   35            20000          0\n",
              "2  Female   26            43000          0\n",
              "3  Female   27            57000          0\n",
              "4    Male   19            76000          0"
            ],
            "text/html": [
              "\n",
              "  <div id=\"df-78de858f-4a07-4957-bf6b-355ddaa2cfbe\">\n",
              "    <div class=\"colab-df-container\">\n",
              "      <div>\n",
              "<style scoped>\n",
              "    .dataframe tbody tr th:only-of-type {\n",
              "        vertical-align: middle;\n",
              "    }\n",
              "\n",
              "    .dataframe tbody tr th {\n",
              "        vertical-align: top;\n",
              "    }\n",
              "\n",
              "    .dataframe thead th {\n",
              "        text-align: right;\n",
              "    }\n",
              "</style>\n",
              "<table border=\"1\" class=\"dataframe\">\n",
              "  <thead>\n",
              "    <tr style=\"text-align: right;\">\n",
              "      <th></th>\n",
              "      <th>Gender</th>\n",
              "      <th>Age</th>\n",
              "      <th>EstimatedSalary</th>\n",
              "      <th>Purchased</th>\n",
              "    </tr>\n",
              "  </thead>\n",
              "  <tbody>\n",
              "    <tr>\n",
              "      <th>0</th>\n",
              "      <td>Male</td>\n",
              "      <td>19</td>\n",
              "      <td>19000</td>\n",
              "      <td>0</td>\n",
              "    </tr>\n",
              "    <tr>\n",
              "      <th>1</th>\n",
              "      <td>Male</td>\n",
              "      <td>35</td>\n",
              "      <td>20000</td>\n",
              "      <td>0</td>\n",
              "    </tr>\n",
              "    <tr>\n",
              "      <th>2</th>\n",
              "      <td>Female</td>\n",
              "      <td>26</td>\n",
              "      <td>43000</td>\n",
              "      <td>0</td>\n",
              "    </tr>\n",
              "    <tr>\n",
              "      <th>3</th>\n",
              "      <td>Female</td>\n",
              "      <td>27</td>\n",
              "      <td>57000</td>\n",
              "      <td>0</td>\n",
              "    </tr>\n",
              "    <tr>\n",
              "      <th>4</th>\n",
              "      <td>Male</td>\n",
              "      <td>19</td>\n",
              "      <td>76000</td>\n",
              "      <td>0</td>\n",
              "    </tr>\n",
              "  </tbody>\n",
              "</table>\n",
              "</div>\n",
              "      <button class=\"colab-df-convert\" onclick=\"convertToInteractive('df-78de858f-4a07-4957-bf6b-355ddaa2cfbe')\"\n",
              "              title=\"Convert this dataframe to an interactive table.\"\n",
              "              style=\"display:none;\">\n",
              "        \n",
              "  <svg xmlns=\"http://www.w3.org/2000/svg\" height=\"24px\"viewBox=\"0 0 24 24\"\n",
              "       width=\"24px\">\n",
              "    <path d=\"M0 0h24v24H0V0z\" fill=\"none\"/>\n",
              "    <path d=\"M18.56 5.44l.94 2.06.94-2.06 2.06-.94-2.06-.94-.94-2.06-.94 2.06-2.06.94zm-11 1L8.5 8.5l.94-2.06 2.06-.94-2.06-.94L8.5 2.5l-.94 2.06-2.06.94zm10 10l.94 2.06.94-2.06 2.06-.94-2.06-.94-.94-2.06-.94 2.06-2.06.94z\"/><path d=\"M17.41 7.96l-1.37-1.37c-.4-.4-.92-.59-1.43-.59-.52 0-1.04.2-1.43.59L10.3 9.45l-7.72 7.72c-.78.78-.78 2.05 0 2.83L4 21.41c.39.39.9.59 1.41.59.51 0 1.02-.2 1.41-.59l7.78-7.78 2.81-2.81c.8-.78.8-2.07 0-2.86zM5.41 20L4 18.59l7.72-7.72 1.47 1.35L5.41 20z\"/>\n",
              "  </svg>\n",
              "      </button>\n",
              "      \n",
              "  <style>\n",
              "    .colab-df-container {\n",
              "      display:flex;\n",
              "      flex-wrap:wrap;\n",
              "      gap: 12px;\n",
              "    }\n",
              "\n",
              "    .colab-df-convert {\n",
              "      background-color: #E8F0FE;\n",
              "      border: none;\n",
              "      border-radius: 50%;\n",
              "      cursor: pointer;\n",
              "      display: none;\n",
              "      fill: #1967D2;\n",
              "      height: 32px;\n",
              "      padding: 0 0 0 0;\n",
              "      width: 32px;\n",
              "    }\n",
              "\n",
              "    .colab-df-convert:hover {\n",
              "      background-color: #E2EBFA;\n",
              "      box-shadow: 0px 1px 2px rgba(60, 64, 67, 0.3), 0px 1px 3px 1px rgba(60, 64, 67, 0.15);\n",
              "      fill: #174EA6;\n",
              "    }\n",
              "\n",
              "    [theme=dark] .colab-df-convert {\n",
              "      background-color: #3B4455;\n",
              "      fill: #D2E3FC;\n",
              "    }\n",
              "\n",
              "    [theme=dark] .colab-df-convert:hover {\n",
              "      background-color: #434B5C;\n",
              "      box-shadow: 0px 1px 3px 1px rgba(0, 0, 0, 0.15);\n",
              "      filter: drop-shadow(0px 1px 2px rgba(0, 0, 0, 0.3));\n",
              "      fill: #FFFFFF;\n",
              "    }\n",
              "  </style>\n",
              "\n",
              "      <script>\n",
              "        const buttonEl =\n",
              "          document.querySelector('#df-78de858f-4a07-4957-bf6b-355ddaa2cfbe button.colab-df-convert');\n",
              "        buttonEl.style.display =\n",
              "          google.colab.kernel.accessAllowed ? 'block' : 'none';\n",
              "\n",
              "        async function convertToInteractive(key) {\n",
              "          const element = document.querySelector('#df-78de858f-4a07-4957-bf6b-355ddaa2cfbe');\n",
              "          const dataTable =\n",
              "            await google.colab.kernel.invokeFunction('convertToInteractive',\n",
              "                                                     [key], {});\n",
              "          if (!dataTable) return;\n",
              "\n",
              "          const docLinkHtml = 'Like what you see? Visit the ' +\n",
              "            '<a target=\"_blank\" href=https://colab.research.google.com/notebooks/data_table.ipynb>data table notebook</a>'\n",
              "            + ' to learn more about interactive tables.';\n",
              "          element.innerHTML = '';\n",
              "          dataTable['output_type'] = 'display_data';\n",
              "          await google.colab.output.renderOutput(dataTable, element);\n",
              "          const docLink = document.createElement('div');\n",
              "          docLink.innerHTML = docLinkHtml;\n",
              "          element.appendChild(docLink);\n",
              "        }\n",
              "      </script>\n",
              "    </div>\n",
              "  </div>\n",
              "  "
            ]
          },
          "metadata": {},
          "execution_count": 82
        }
      ]
    },
    {
      "cell_type": "markdown",
      "source": [
        "__________________________________________________________"
      ],
      "metadata": {
        "id": "cXfP8ev3_VXe"
      }
    },
    {
      "cell_type": "code",
      "source": [
        "# Display a heatmap plot\n",
        "\n",
        "sns.heatmap(df_copy.corr(), cbar=True, annot=True, cmap='RdBu');\n",
        "\n",
        "fig = plt.gcf()\n",
        "fig.set_size_inches(5,5)\n",
        "plt.show()"
      ],
      "metadata": {
        "id": "6w89mTfx_X5i",
        "colab": {
          "base_uri": "https://localhost:8080/",
          "height": 320
        },
        "outputId": "8ffde5cc-0993-46ac-a956-58deddcb59b2"
      },
      "execution_count": null,
      "outputs": [
        {
          "output_type": "display_data",
          "data": {
            "text/plain": [
              "<Figure size 360x360 with 2 Axes>"
            ],
            "image/png": "[encoded data removed]"
          },
          "metadata": {
            "needs_background": "light"
          }
        }
      ]
    },
    {
      "cell_type": "markdown",
      "source": [
        "Corrélation positive : \n",
        "- Age / Purchased\n",
        "\n",
        "Corrélation négative : \n",
        "- Age / Estimated Salary\n",
        "\n",
        "Il ne faut pas oublier que le sexe des personnes peut jouer dans l'analyse"
      ],
      "metadata": {
        "id": "sFUaISYj_kE1"
      }
    },
    {
      "cell_type": "markdown",
      "source": [
        "**Analyse : Age / Purchased**"
      ],
      "metadata": {
        "id": "F9kCWZDT_yLy"
      }
    },
    {
      "cell_type": "code",
      "source": [
        "sns.violinplot(data=df_copy, x='Purchased', y='Age')\n",
        "\n",
        "fig = plt.gcf()\n",
        "fig.set_size_inches(20,8)\n",
        "plt.show()"
      ],
      "metadata": {
        "id": "YBT2SegrduyA"
      },
      "execution_count": null,
      "outputs": []
    },
    {
      "cell_type": "code",
      "source": [
        "df_copy.groupby('Purchased')['Age'].mean()"
      ],
      "metadata": {
        "id": "ch4pIOMsdzW3"
      },
      "execution_count": null,
      "outputs": []
    },
    {
      "cell_type": "markdown",
      "source": [
        "#### Analysis : Age / Estimated Salary based on Purchased"
      ],
      "metadata": {
        "id": "qyYKCQRId-6V"
      }
    },
    {
      "cell_type": "code",
      "source": [
        "sns.scatterplot(data=df_copy, x='Age', y='EstimatedSalary', hue='Purchased');\n",
        "\n",
        "fig = plt.gcf()\n",
        "fig.set_size_inches(8, 8)\n",
        "plt.show()"
      ],
      "metadata": {
        "id": "_NH3c7mceDfO"
      },
      "execution_count": null,
      "outputs": []
    },
    {
      "cell_type": "code",
      "source": [
        "df_copy.groupby('Purchased')['EstimatedSalary'].mean()"
      ],
      "metadata": {
        "id": "BASAAlp2eHxw"
      },
      "execution_count": null,
      "outputs": []
    },
    {
      "cell_type": "code",
      "execution_count": null,
      "metadata": {
        "id": "x0ZQd_EYBJy3"
      },
      "outputs": [],
      "source": [
        "# Déclaration de variables\n",
        "\n",
        "le = preprocessing.LabelEncoder()"
      ]
    },
    {
      "cell_type": "code",
      "execution_count": null,
      "metadata": {
        "id": "fEqxaKryBJy6",
        "outputId": "f127ea71-262a-4371-d23f-2405aa82cf68",
        "colab": {
          "base_uri": "https://localhost:8080/"
        }
      },
      "outputs": [
        {
          "output_type": "execute_result",
          "data": {
            "text/plain": [
              "User ID            0\n",
              "Gender             0\n",
              "Age                0\n",
              "EstimatedSalary    0\n",
              "Purchased          0\n",
              "dtype: int64"
            ]
          },
          "metadata": {},
          "execution_count": 88
        }
      ],
      "source": [
        "# Vérification de présence de valeur null\n",
        "\n",
        "file.isnull().sum()"
      ]
    },
    {
      "cell_type": "code",
      "execution_count": null,
      "metadata": {
        "id": "5Ce7VxSSBJy9",
        "outputId": "e3c5edf8-4e9b-4a21-d977-58c9bd5268bc",
        "colab": {
          "base_uri": "https://localhost:8080/",
          "height": 206
        }
      },
      "outputs": [
        {
          "output_type": "execute_result",
          "data": {
            "text/plain": [
              "    User ID Gender  Age  EstimatedSalary  Purchased\n",
              "0  15624510      1   19            19000          0\n",
              "1  15810944      1   35            20000          0\n",
              "2  15668575      0   26            43000          0\n",
              "3  15603246      0   27            57000          0\n",
              "4  15804002      1   19            76000          0"
            ],
            "text/html": [
              "\n",
              "  <div id=\"df-8b026787-e937-4476-b532-f5da2a3938e5\">\n",
              "    <div class=\"colab-df-container\">\n",
              "      <div>\n",
              "<style scoped>\n",
              "    .dataframe tbody tr th:only-of-type {\n",
              "        vertical-align: middle;\n",
              "    }\n",
              "\n",
              "    .dataframe tbody tr th {\n",
              "        vertical-align: top;\n",
              "    }\n",
              "\n",
              "    .dataframe thead th {\n",
              "        text-align: right;\n",
              "    }\n",
              "</style>\n",
              "<table border=\"1\" class=\"dataframe\">\n",
              "  <thead>\n",
              "    <tr style=\"text-align: right;\">\n",
              "      <th></th>\n",
              "      <th>User ID</th>\n",
              "      <th>Gender</th>\n",
              "      <th>Age</th>\n",
              "      <th>EstimatedSalary</th>\n",
              "      <th>Purchased</th>\n",
              "    </tr>\n",
              "  </thead>\n",
              "  <tbody>\n",
              "    <tr>\n",
              "      <th>0</th>\n",
              "      <td>15624510</td>\n",
              "      <td>1</td>\n",
              "      <td>19</td>\n",
              "      <td>19000</td>\n",
              "      <td>0</td>\n",
              "    </tr>\n",
              "    <tr>\n",
              "      <th>1</th>\n",
              "      <td>15810944</td>\n",
              "      <td>1</td>\n",
              "      <td>35</td>\n",
              "      <td>20000</td>\n",
              "      <td>0</td>\n",
              "    </tr>\n",
              "    <tr>\n",
              "      <th>2</th>\n",
              "      <td>15668575</td>\n",
              "      <td>0</td>\n",
              "      <td>26</td>\n",
              "      <td>43000</td>\n",
              "      <td>0</td>\n",
              "    </tr>\n",
              "    <tr>\n",
              "      <th>3</th>\n",
              "      <td>15603246</td>\n",
              "      <td>0</td>\n",
              "      <td>27</td>\n",
              "      <td>57000</td>\n",
              "      <td>0</td>\n",
              "    </tr>\n",
              "    <tr>\n",
              "      <th>4</th>\n",
              "      <td>15804002</td>\n",
              "      <td>1</td>\n",
              "      <td>19</td>\n",
              "      <td>76000</td>\n",
              "      <td>0</td>\n",
              "    </tr>\n",
              "  </tbody>\n",
              "</table>\n",
              "</div>\n",
              "      <button class=\"colab-df-convert\" onclick=\"convertToInteractive('df-8b026787-e937-4476-b532-f5da2a3938e5')\"\n",
              "              title=\"Convert this dataframe to an interactive table.\"\n",
              "              style=\"display:none;\">\n",
              "        \n",
              "  <svg xmlns=\"http://www.w3.org/2000/svg\" height=\"24px\"viewBox=\"0 0 24 24\"\n",
              "       width=\"24px\">\n",
              "    <path d=\"M0 0h24v24H0V0z\" fill=\"none\"/>\n",
              "    <path d=\"M18.56 5.44l.94 2.06.94-2.06 2.06-.94-2.06-.94-.94-2.06-.94 2.06-2.06.94zm-11 1L8.5 8.5l.94-2.06 2.06-.94-2.06-.94L8.5 2.5l-.94 2.06-2.06.94zm10 10l.94 2.06.94-2.06 2.06-.94-2.06-.94-.94-2.06-.94 2.06-2.06.94z\"/><path d=\"M17.41 7.96l-1.37-1.37c-.4-.4-.92-.59-1.43-.59-.52 0-1.04.2-1.43.59L10.3 9.45l-7.72 7.72c-.78.78-.78 2.05 0 2.83L4 21.41c.39.39.9.59 1.41.59.51 0 1.02-.2 1.41-.59l7.78-7.78 2.81-2.81c.8-.78.8-2.07 0-2.86zM5.41 20L4 18.59l7.72-7.72 1.47 1.35L5.41 20z\"/>\n",
              "  </svg>\n",
              "      </button>\n",
              "      \n",
              "  <style>\n",
              "    .colab-df-container {\n",
              "      display:flex;\n",
              "      flex-wrap:wrap;\n",
              "      gap: 12px;\n",
              "    }\n",
              "\n",
              "    .colab-df-convert {\n",
              "      background-color: #E8F0FE;\n",
              "      border: none;\n",
              "      border-radius: 50%;\n",
              "      cursor: pointer;\n",
              "      display: none;\n",
              "      fill: #1967D2;\n",
              "      height: 32px;\n",
              "      padding: 0 0 0 0;\n",
              "      width: 32px;\n",
              "    }\n",
              "\n",
              "    .colab-df-convert:hover {\n",
              "      background-color: #E2EBFA;\n",
              "      box-shadow: 0px 1px 2px rgba(60, 64, 67, 0.3), 0px 1px 3px 1px rgba(60, 64, 67, 0.15);\n",
              "      fill: #174EA6;\n",
              "    }\n",
              "\n",
              "    [theme=dark] .colab-df-convert {\n",
              "      background-color: #3B4455;\n",
              "      fill: #D2E3FC;\n",
              "    }\n",
              "\n",
              "    [theme=dark] .colab-df-convert:hover {\n",
              "      background-color: #434B5C;\n",
              "      box-shadow: 0px 1px 3px 1px rgba(0, 0, 0, 0.15);\n",
              "      filter: drop-shadow(0px 1px 2px rgba(0, 0, 0, 0.3));\n",
              "      fill: #FFFFFF;\n",
              "    }\n",
              "  </style>\n",
              "\n",
              "      <script>\n",
              "        const buttonEl =\n",
              "          document.querySelector('#df-8b026787-e937-4476-b532-f5da2a3938e5 button.colab-df-convert');\n",
              "        buttonEl.style.display =\n",
              "          google.colab.kernel.accessAllowed ? 'block' : 'none';\n",
              "\n",
              "        async function convertToInteractive(key) {\n",
              "          const element = document.querySelector('#df-8b026787-e937-4476-b532-f5da2a3938e5');\n",
              "          const dataTable =\n",
              "            await google.colab.kernel.invokeFunction('convertToInteractive',\n",
              "                                                     [key], {});\n",
              "          if (!dataTable) return;\n",
              "\n",
              "          const docLinkHtml = 'Like what you see? Visit the ' +\n",
              "            '<a target=\"_blank\" href=https://colab.research.google.com/notebooks/data_table.ipynb>data table notebook</a>'\n",
              "            + ' to learn more about interactive tables.';\n",
              "          element.innerHTML = '';\n",
              "          dataTable['output_type'] = 'display_data';\n",
              "          await google.colab.output.renderOutput(dataTable, element);\n",
              "          const docLink = document.createElement('div');\n",
              "          docLink.innerHTML = docLinkHtml;\n",
              "          element.appendChild(docLink);\n",
              "        }\n",
              "      </script>\n",
              "    </div>\n",
              "  </div>\n",
              "  "
            ]
          },
          "metadata": {},
          "execution_count": 89
        }
      ],
      "source": [
        "# Convertion des valeurs \"string\" en \"int\" de la colonne Spicies\n",
        "\n",
        "var_encoded=le.fit_transform(file[\"Gender\"])\n",
        "\n",
        "df_var_encoded = pd.DataFrame({'Gender':np.array(var_encoded)})\n",
        "\n",
        "\n",
        "# Création d'un DataFrame avec les valeurs de Species transformées\n",
        "\n",
        "fl_encoded = file\n",
        "\n",
        "# 1st Method\n",
        "\n",
        "# fl_encoded = fl_encoded.drop(['CAT_STR'], axis=1)\n",
        "\n",
        "# fl_encoded = fl_encoded.join(df_var_encoded) \n",
        "\n",
        "# 2nd Method\n",
        "\n",
        "data_to_int = pd.DataFrame({'Gender':np.array(var_encoded)})\n",
        "fl_encoded.update(data_to_int)\n",
        "\n",
        "fl_encoded.head()\n"
      ]
    },
    {
      "cell_type": "code",
      "execution_count": null,
      "metadata": {
        "id": "qeRwiC2VBJy_",
        "outputId": "55604c07-a89d-4d60-936c-63a5aafe10b5",
        "colab": {
          "base_uri": "https://localhost:8080/",
          "height": 248
        }
      },
      "outputs": [
        {
          "output_type": "display_data",
          "data": {
            "text/plain": [
              "<Figure size 432x288 with 1 Axes>"
            ],
            "image/png": "[encoded data removed]"
          },
          "metadata": {}
        }
      ],
      "source": [
        "# Affiche la répartition des resultats présents dans le DataFrame par catégorie\n",
        "\n",
        "ax = file['Gender'].value_counts().plot.pie(autopct='%1.1f%%')\n",
        "ax.set_title('')\n",
        "ax.set_ylabel('')\n",
        "plt.show()"
      ]
    },
    {
      "cell_type": "code",
      "source": [
        "sns.violinplot(data=df_copy, x='Purchased', y='Age', hue='Gender');\n",
        "\n",
        "fig = plt.gcf()\n",
        "fig.set_size_inches(10,8)\n",
        "plt.show()"
      ],
      "metadata": {
        "id": "YhgFpPnJekXK"
      },
      "execution_count": null,
      "outputs": []
    },
    {
      "cell_type": "code",
      "source": [
        "sns.countplot(data=df_buy, x='Gender', hue='Gender');\n",
        "plt.title(\"Sexe selon achat\")\n",
        "fig = plt.gcf()\n",
        "fig.set_size_inches(5,5)\n",
        "plt.show()"
      ],
      "metadata": {
        "id": "aEtOqtHOextO"
      },
      "execution_count": null,
      "outputs": []
    },
    {
      "cell_type": "code",
      "execution_count": null,
      "metadata": {
        "id": "7IGBPCqxBJzD",
        "outputId": "2319ccb4-0648-4292-c5f0-bb8bfc7efbcf",
        "colab": {
          "base_uri": "https://localhost:8080/"
        }
      },
      "outputs": [
        {
          "output_type": "stream",
          "name": "stdout",
          "text": [
            "Gender\n",
            "0    71759.803922\n",
            "1    67642.857143\n",
            "Name: EstimatedSalary, dtype: float64\n"
          ]
        }
      ],
      "source": [
        "# Affiche la moyenne de salaire estimé par sexe\n",
        "\n",
        "fl = file.groupby('Gender')['EstimatedSalary'].mean()\n",
        "clear_output()\n",
        "print(fl)"
      ]
    },
    {
      "cell_type": "code",
      "execution_count": null,
      "metadata": {
        "id": "4eqaTAiiBJzH",
        "outputId": "37f6e3b7-5c11-441e-a247-b0711ece9d34",
        "colab": {
          "base_uri": "https://localhost:8080/"
        }
      },
      "outputs": [
        {
          "output_type": "stream",
          "name": "stdout",
          "text": [
            "Gender\n",
            "0    38.411765\n",
            "1    36.867347\n",
            "Name: Age, dtype: float64\n"
          ]
        }
      ],
      "source": [
        "# Affiche la moyenne d'âge par sexe\n",
        "\n",
        "fl = file.groupby('Gender')['Age'].mean()\n",
        "clear_output()\n",
        "print(fl)"
      ]
    },
    {
      "cell_type": "code",
      "execution_count": null,
      "metadata": {
        "id": "_1TtGAwuBJzL",
        "outputId": "5380862d-d119-4d50-b443-935bae53f710",
        "colab": {
          "base_uri": "https://localhost:8080/"
        }
      },
      "outputs": [
        {
          "output_type": "stream",
          "name": "stdout",
          "text": [
            "Purchased\n",
            "0    32.793774\n",
            "1    46.391608\n",
            "Name: Age, dtype: float64\n"
          ]
        }
      ],
      "source": [
        "# Affiche la moyenne d'achat par âge\n",
        "\n",
        "fl = file.groupby('Purchased')['Age'].mean()\n",
        "clear_output()\n",
        "print(fl)"
      ]
    },
    {
      "cell_type": "code",
      "execution_count": null,
      "metadata": {
        "id": "is4xzhMSBJzN",
        "outputId": "6555ed94-5de8-436c-98aa-8cee35457621",
        "colab": {
          "base_uri": "https://localhost:8080/"
        }
      },
      "outputs": [
        {
          "output_type": "stream",
          "name": "stdout",
          "text": [
            "35.75 %\n"
          ]
        }
      ],
      "source": [
        "# Affiche la moyenne d'achat\n",
        "\n",
        "fl = file['Purchased'].mean()\n",
        "clear_output()\n",
        "print((fl*100), str(\"%\"))"
      ]
    },
    {
      "cell_type": "code",
      "execution_count": null,
      "metadata": {
        "id": "FTsfsdmyBJzR",
        "outputId": "9553789b-4e46-4ea8-ab34-4720fa9a8169",
        "colab": {
          "base_uri": "https://localhost:8080/"
        }
      },
      "outputs": [
        {
          "output_type": "stream",
          "name": "stdout",
          "text": [
            "Purchased\n",
            "0    0.505837\n",
            "1    0.461538\n",
            "Name: Gender, dtype: float64\n"
          ]
        }
      ],
      "source": [
        "# Affiche la moyenne 0:F 1:H\n",
        "\n",
        "fl = fl_encoded.groupby('Purchased')['Gender'].mean()\n",
        "clear_output()\n",
        "print(fl)\n"
      ]
    },
    {
      "cell_type": "code",
      "execution_count": null,
      "metadata": {
        "id": "4FsejiFJBJzV",
        "outputId": "e41e4f02-325e-4952-8344-6acc8c3dadce",
        "colab": {
          "base_uri": "https://localhost:8080/"
        }
      },
      "outputs": [
        {
          "output_type": "stream",
          "name": "stdout",
          "text": [
            "Age Min 18 \n",
            "\n",
            "Age Max 60\n"
          ]
        }
      ],
      "source": [
        "# Affiche le tableau des mesures max et min\n",
        "\n",
        "fl_min = file['Age'].min()\n",
        "fl_max = file['Age'].max()\n",
        "clear_output()\n",
        "print(\"Age Min\",fl_min,\"\\n\")\n",
        "print(\"Age Max\",fl_max)"
      ]
    },
    {
      "cell_type": "code",
      "execution_count": null,
      "metadata": {
        "id": "ABAhNaeABJzX",
        "outputId": "a02f85cc-908f-4d23-b857-fcc5ceced8c3",
        "colab": {
          "base_uri": "https://localhost:8080/"
        }
      },
      "outputs": [
        {
          "output_type": "stream",
          "name": "stdout",
          "text": [
            "EstimatedSalary Min 15000 \n",
            "\n",
            "EstimatedSalary Max 150000\n"
          ]
        }
      ],
      "source": [
        "# Affiche le tableau des mesures max et min\n",
        "\n",
        "fl_min = file['EstimatedSalary'].min()\n",
        "fl_max = file['EstimatedSalary'].max()\n",
        "clear_output()\n",
        "print(\"EstimatedSalary Min\",fl_min,\"\\n\")\n",
        "print(\"EstimatedSalary Max\",fl_max)"
      ]
    },
    {
      "cell_type": "markdown",
      "source": [
        "________________________________\n",
        "#### Major Conclusions about EDA\n",
        "\n",
        "- Les femmes achètent plus que les hommes\n",
        "- Le salaire moyen des acheteurs est de 86K\n",
        "- La tranche d'âge est comprise entre 45 et 60 ans \n",
        "- ou un salaire débutant à 80K"
      ],
      "metadata": {
        "id": "fsSF9B-1e2gc"
      }
    },
    {
      "cell_type": "markdown",
      "source": [
        "____________________________________\n",
        "____________________________________\n",
        "\n",
        "<center><h2>Machine Learning</h2></center>"
      ],
      "metadata": {
        "id": "ij43Ucr5e4I5"
      }
    },
    {
      "cell_type": "code",
      "execution_count": null,
      "metadata": {
        "id": "TJrSckvVBJzY"
      },
      "outputs": [],
      "source": [
        "# Séparation valeurs et resultats\n",
        "\n",
        "feature_columns = ['Gender','Age','EstimatedSalary']\n",
        "X = fl_encoded[feature_columns].values\n",
        "y = fl_encoded['Purchased'].values"
      ]
    },
    {
      "cell_type": "code",
      "execution_count": null,
      "metadata": {
        "id": "U8GiJuZWBJzZ",
        "outputId": "9a1f3dc4-5862-4f73-e0df-9d8a0c8a5840",
        "colab": {
          "base_uri": "https://localhost:8080/",
          "height": 297
        }
      },
      "outputs": [
        {
          "output_type": "display_data",
          "data": {
            "text/plain": [
              "<Figure size 432x288 with 1 Axes>"
            ],
            "image/png": "[encoded data removed]"
          },
          "metadata": {
            "needs_background": "light"
          }
        }
      ],
      "source": [
        "# Affiche la meilleur répartition pour la découpe du jeu de données\n",
        "\n",
        "model=KNeighborsClassifier()\n",
        "\n",
        "N, train_score, val_score = learning_curve(model, X, y, train_sizes = np.linspace(0.1, 1, 100),  cv=5, scoring='accuracy')\n",
        "plt.plot(N/X.shape[0]*100, train_score.mean(axis=1), label='train')\n",
        "plt.plot(N/X.shape[0]*100, val_score.mean(axis=1), label='validation')\n",
        "# clear_output()\n",
        "plt.title(\"LEARNING CURVE FOR KNN Classifier\")\n",
        "plt.xlabel(\"Training Set Size\"), plt.ylabel(\"Accuracy Score\"), plt.legend(loc=\"best\")\n",
        "plt.tight_layout()\n",
        "plt.show()"
      ]
    },
    {
      "cell_type": "code",
      "execution_count": null,
      "metadata": {
        "id": "JdxIakKSBJzl"
      },
      "outputs": [],
      "source": [
        "# Séparation du jeu de données en deux\n",
        "\n",
        "X_train, X_test, y_train, y_test = train_test_split(X, y, test_size=0.69, random_state=3)"
      ]
    },
    {
      "cell_type": "code",
      "execution_count": null,
      "metadata": {
        "id": "1-BiuC3nBJzm"
      },
      "outputs": [],
      "source": [
        "stand= StandardScaler()\n",
        "fit_train= stand.fit_transform(X_train)\n",
        "transfor_test=stand.transform(X_test)"
      ]
    },
    {
      "cell_type": "code",
      "execution_count": null,
      "metadata": {
        "id": "HK7zdRr3BJzv"
      },
      "outputs": [],
      "source": [
        "def best_setting():\n",
        "  # Find the best cross-validation :\n",
        "  knn = KNeighborsClassifier()\n",
        "  kfold_score = loo_score = ss_score = stratkfold_score = []\n",
        "  cv_result = {'K-Fold':0.0, \n",
        "              'Shuffle Split':0.0, \n",
        "              'Strat K-Fold':0.0, \n",
        "              'LOOCV': 0.0}\n",
        "\n",
        "  k_range = range(1, 11)   # from 1 to 10 K-Nearest Neighbors\n",
        "  print(\"For 1 to 10 KNN : \")\n",
        "\n",
        "  # K-Fold\n",
        "  cv = KFold()\n",
        "  for k in k_range:\n",
        "      score = cross_val_score(knn, fit_train, y_train, cv=cv, \n",
        "              scoring='accuracy').mean()\n",
        "      kfold_score.append(score)\n",
        "  cv_result['K-Fold'] = np.mean(kfold_score)\n",
        "  print(\"    - K-Fold score max : \", max(kfold_score), \"/ min :\", \n",
        "      min(kfold_score))\n",
        "  print(\"    - K-Fold mean score : \", np.mean(kfold_score))\n",
        "\n",
        "  # Shuffle Split\n",
        "  cv = ShuffleSplit(n_splits=5, train_size=0.8)\n",
        "  for k in k_range:\n",
        "      score = cross_val_score(knn, fit_train, y_train, cv=cv, \n",
        "              scoring='accuracy').mean()\n",
        "      ss_score.append(score)\n",
        "  cv_result['Shuffle Split'] = np.mean(ss_score)\n",
        "  print(\"    - Shuffle Split score max : \", max(ss_score), \n",
        "      \"/ min : \", min(ss_score))\n",
        "  print(\"    - Shuffle Split mean score : \", np.mean(ss_score))\n",
        "\n",
        "  # Stratified K-Fold\n",
        "  cv = StratifiedKFold(n_splits=5, shuffle=True, random_state=1)\n",
        "  for k in k_range:\n",
        "      score = cross_val_score(knn, fit_train, y_train, cv=cv, \n",
        "              scoring='accuracy').mean()\n",
        "      stratkfold_score.append(score)\n",
        "  cv_result['Strat K-Fold'] = np.mean(stratkfold_score)\n",
        "  print(\"    - Stratified K-Fold score max : \", max(stratkfold_score), \n",
        "      \"/ min : \", min(stratkfold_score))\n",
        "  print(\"    - Stratified K-Fold mean score : \", np.mean(stratkfold_score))\n",
        "\n",
        "  # leave One Out\n",
        "  cv = LeaveOneOut()\n",
        "  for k in k_range:\n",
        "      score = cross_val_score(knn, fit_train, y_train, cv=cv, \n",
        "              scoring='accuracy', n_jobs=-1).mean()\n",
        "      loo_score.append(score)\n",
        "  cv_result['LOOCV'] = np.mean(loo_score)\n",
        "  print(\"    - LOOCV score max :\", max(loo_score), \"/ min : \", min(loo_score))\n",
        "  print(\"    - LOOCV mean score : \", np.mean(loo_score))\n",
        "\n",
        "  max_cv = max(cv_result, key=cv_result.get)\n",
        "  print(\"\\n Best choice to select :\", max_cv)"
      ]
    },
    {
      "cell_type": "code",
      "source": [
        "best_setting()"
      ],
      "metadata": {
        "id": "tSqfVOnEgO2A"
      },
      "execution_count": null,
      "outputs": []
    },
    {
      "cell_type": "code",
      "source": [
        "def apply_par():\n",
        "  if max_cv == 'K-Fold':\n",
        "      cv = KFold() \n",
        "  elif max_cv == 'Shuffle Split':\n",
        "      cv = ShuffleSplit(n_splits=5, train_size=0.8) \n",
        "  elif max_cv == 'Strat K-Fold':\n",
        "      cv = StratifiedKFold(n_splits=5, shuffle=True, random_state=1)\n",
        "  else:\n",
        "      cv = LeaveOneOut()"
      ],
      "metadata": {
        "id": "9jr2NDRjjsyq"
      },
      "execution_count": null,
      "outputs": []
    },
    {
      "cell_type": "code",
      "source": [
        "apply_par()"
      ],
      "metadata": {
        "id": "CfqzSd3GgSaK"
      },
      "execution_count": null,
      "outputs": []
    },
    {
      "cell_type": "code",
      "source": [
        "def best_nei():\n",
        "  params = {'n_neighbors': np.arange(1,41),\n",
        "                'metric': ['euclidean', 'manhattan']}\n",
        "\n",
        "  grid = GridSearchCV(knn, params, scoring='accuracy', cv=cv);\n",
        "  grid.fit(fit_train, y_train);"
      ],
      "metadata": {
        "id": "NN4nc4fvjtya"
      },
      "execution_count": null,
      "outputs": []
    },
    {
      "cell_type": "code",
      "source": [
        "best_nei()"
      ],
      "metadata": {
        "id": "8Ph-VgIKgUEG"
      },
      "execution_count": null,
      "outputs": []
    },
    {
      "cell_type": "code",
      "execution_count": null,
      "metadata": {
        "id": "LKL2J7WkBJzm",
        "outputId": "8425c92f-fc42-4f10-f1e7-a3d3350996e0",
        "colab": {
          "base_uri": "https://localhost:8080/"
        }
      },
      "outputs": [
        {
          "output_type": "execute_result",
          "data": {
            "text/plain": [
              "array([[1, 19, 19000],\n",
              "       [1, 35, 20000],\n",
              "       [0, 26, 43000],\n",
              "       ...,\n",
              "       [0, 50, 20000],\n",
              "       [1, 36, 33000],\n",
              "       [0, 49, 36000]], dtype=object)"
            ]
          },
          "metadata": {},
          "execution_count": 176
        }
      ],
      "source": [
        "# Features Selection - Varaince Threshold\n",
        "\n",
        "selector = VarianceThreshold(threshold=0.2)\n",
        "selector.fit_transform(X)"
      ]
    },
    {
      "cell_type": "code",
      "execution_count": null,
      "metadata": {
        "id": "bXZXi38hBJzo",
        "outputId": "17ff6a46-225b-46d7-f39c-c41814dbe88b",
        "colab": {
          "base_uri": "https://localhost:8080/",
          "height": 262
        }
      },
      "outputs": [
        {
          "output_type": "display_data",
          "data": {
            "text/plain": [
              "<Figure size 432x288 with 1 Axes>"
            ],
            "image/png": "[encoded data removed]"
          },
          "metadata": {
            "needs_background": "light"
          }
        }
      ],
      "source": [
        "# Affichage du graphique des scores selon le nombre de voisin\n",
        "\n",
        "plt.plot(k, val_score.mean(axis=1))\n",
        "plt.plot(k, train_score.mean(axis=1))\n",
        "clear_output()"
      ]
    },
    {
      "cell_type": "code",
      "execution_count": null,
      "metadata": {
        "id": "O1Sumn0gBJzp",
        "outputId": "c1a2d9a5-4aae-45e1-9c35-73612e989e2c",
        "colab": {
          "base_uri": "https://localhost:8080/"
        }
      },
      "outputs": [
        {
          "output_type": "execute_result",
          "data": {
            "text/plain": [
              "0.8857142857142858"
            ]
          },
          "metadata": {},
          "execution_count": 220
        }
      ],
      "source": [
        "# Affiche le meilleur score posible\n",
        "\n",
        "grid.best_score_"
      ]
    },
    {
      "cell_type": "code",
      "execution_count": null,
      "metadata": {
        "id": "dguiWJ2pBJzq",
        "outputId": "bcd1a7de-cfb9-4bda-9094-7c6ddc2ebb33",
        "colab": {
          "base_uri": "https://localhost:8080/"
        }
      },
      "outputs": [
        {
          "output_type": "execute_result",
          "data": {
            "text/plain": [
              "{'metric': 'manhattan', 'n_neighbors': 3}"
            ]
          },
          "metadata": {},
          "execution_count": 221
        }
      ],
      "source": [
        "# Affiche les meilleurs paramètres\n",
        "\n",
        "grid.best_params_"
      ]
    },
    {
      "cell_type": "code",
      "execution_count": null,
      "metadata": {
        "id": "aCofbCOVBJzr",
        "outputId": "82445d64-1090-4c98-99ba-a395d62fde9a",
        "colab": {
          "base_uri": "https://localhost:8080/"
        }
      },
      "outputs": [
        {
          "output_type": "execute_result",
          "data": {
            "text/plain": [
              "0.8708791208791209"
            ]
          },
          "metadata": {},
          "execution_count": 222
        }
      ],
      "source": [
        "# Test les paramètres sur le jeu de données test\n",
        "\n",
        "model = grid.best_estimator_\n",
        "model.score(transfor_test, y_test)"
      ]
    },
    {
      "cell_type": "code",
      "execution_count": null,
      "metadata": {
        "id": "z2aVDfu_BJzs",
        "outputId": "fee505fe-a1ab-4e15-863a-ebf3c9724cfd",
        "colab": {
          "base_uri": "https://localhost:8080/"
        }
      },
      "outputs": [
        {
          "output_type": "execute_result",
          "data": {
            "text/plain": [
              "array([[  0, 120],\n",
              "       [  0,  56]])"
            ]
          },
          "metadata": {},
          "execution_count": 185
        }
      ],
      "source": [
        "# Affiche la matrice de confusion\n",
        "\n",
        "y_pred = model.predict(X_test)\n",
        "confus_matrix = metrics.confusion_matrix(y_test, y_pred)\n",
        "confus_matrix"
      ]
    },
    {
      "cell_type": "code",
      "execution_count": null,
      "metadata": {
        "id": "vx9gydsiBJzt",
        "colab": {
          "base_uri": "https://localhost:8080/"
        },
        "outputId": "885a54f5-04bf-444b-9804-b645a892948f"
      },
      "outputs": [
        {
          "output_type": "stream",
          "name": "stdout",
          "text": [
            "[0 1 1 0 0 0 1 0 0 0 0 0 1 0 0 0 0 0 1 0 0 0 0 0 1 0 0 1 0 1 1 0 1 1 0 0 0\n",
            " 0 0 0 1 0 1 0 1 0 0 1 0 0 0 0 0 0 1 0 0 1 0 0 0 1 1 0 0 0 1 1 0 1 0 1 0 0\n",
            " 0 0 0 0 0 0 1 0 1 1 0 0 1 0 0 0 0 0 0 1 1 1 0 1 0 0 1 0 0 0 1 1 0 1 0 1 0\n",
            " 1 0 0 0 1 0 0 0 0 0 0 0 0 1 0 0 1 1 0 1 1 0 0 0 1 1 0 0 1 0 0 0 0 0 1 0 0\n",
            " 1 0 0 1 0 0 0 0 1 0 0 0 1 0 0 0 1 1 0 1 0 1 0 0 0 0 1 1 0 1 1 1 0 1 0 1 1\n",
            " 0 0 1 0 0 0 1 1 0 1 0 0 0 0 0 0 1 0 1 0 1 0 0 0 1 0 0 1 1 0 1 1 0 0 0 0 0\n",
            " 0 1 0 0 0 1 1 0 0 0 0 1 1 0 0 0 0 0 1 1 0 0 1 0 0 0 0 0 0 1 1 0 0 0]\n"
          ]
        }
      ],
      "source": [
        "# Test de prédiction standardisé\n",
        "\n",
        "model.fit(fit_train, y_train)\n",
        "y_pred = model.predict(transfor_test)\n",
        "print(y_pred)"
      ]
    },
    {
      "cell_type": "code",
      "execution_count": null,
      "metadata": {
        "id": "P2ihzXq-BJzu"
      },
      "outputs": [],
      "source": [
        "# Sauvegarde du modèle avec Pickle\n",
        "\n",
        "d={}\n",
        "d[\"model\"]=model\n",
        "d[\"stand\"]=stand\n",
        "d[\"le\"]=le\n",
        "f = open('fl.pkl', 'wb')\n",
        "pickle.dump(d, f)\n",
        "f.close()      "
      ]
    }
  ]
}